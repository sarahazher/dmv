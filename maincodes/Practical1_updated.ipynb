{
 "cells": [
  {
   "cell_type": "code",
   "execution_count": null,
   "id": "490f272d-c918-4995-94f1-a55e180d6395",
   "metadata": {},
   "outputs": [],
   "source": [
    "# Title : Analyzing Sales Data from Multiple File Formats"
   ]
  },
  {
   "cell_type": "code",
   "execution_count": null,
   "id": "ca5dd8f5-4c95-4fb5-ae4f-89e26fc658a7",
   "metadata": {},
   "outputs": [],
   "source": [
    "import numpy as np\n",
    "import pandas as pd\n",
    "from matplotlib import pyplot as plt\n",
    "import json"
   ]
  },
  {
   "cell_type": "code",
   "execution_count": null,
   "id": "3641ab12-7e50-4d1b-8d05-f20e764d748b",
   "metadata": {},
   "outputs": [],
   "source": [
    "csv = pd.read_csv(\"./datasets/sales_data_sample.csv\", encoding=\"cp1252\")"
   ]
  },
  {
   "cell_type": "code",
   "execution_count": null,
   "id": "4585eb4b-dee7-4f95-9eca-954a9f3b11e5",
   "metadata": {},
   "outputs": [],
   "source": [
    "ed = pd.read_excel(\"./datasets/Sample-Sales-Data.xlsx\")"
   ]
  },
  {
   "cell_type": "code",
   "execution_count": null,
   "id": "95405266-c82a-46f1-adf6-7a3cd7ad55d0",
   "metadata": {},
   "outputs": [],
   "source": [
    "with open(\"./datasets/customers.json\", \"r\") as json_file:\n",
    "    json_data = json.load(json_file)"
   ]
  },
  {
   "cell_type": "code",
   "execution_count": null,
   "id": "e16ab4ab-4e4a-4fe9-b981-04c382e5169d",
   "metadata": {},
   "outputs": [],
   "source": [
    "csv.tail()"
   ]
  },
  {
   "cell_type": "code",
   "execution_count": null,
   "id": "38267629-0cf5-4a09-9e27-5b38fd9e3041",
   "metadata": {},
   "outputs": [],
   "source": [
    "csv.info()"
   ]
  },
  {
   "cell_type": "code",
   "execution_count": null,
   "id": "d7976a9a-fdb9-4b60-a41f-e3fbb5192ac8",
   "metadata": {},
   "outputs": [],
   "source": [
    "csv.describe()"
   ]
  },
  {
   "cell_type": "code",
   "execution_count": null,
   "id": "4cd534d2-5421-45d9-b2ac-31eb47c6eaba",
   "metadata": {},
   "outputs": [],
   "source": [
    "csv.dropna()"
   ]
  },
  {
   "cell_type": "code",
   "execution_count": null,
   "id": "f6b18ec8-59d9-434e-b040-d6a38ed9ea12",
   "metadata": {},
   "outputs": [],
   "source": [
    "csv.drop_duplicates()"
   ]
  },
  {
   "cell_type": "code",
   "execution_count": null,
   "id": "635b84c5-f703-4a74-b836-c3c2f959e4f6",
   "metadata": {},
   "outputs": [],
   "source": [
    "ed.head()"
   ]
  },
  {
   "cell_type": "code",
   "execution_count": null,
   "id": "675f8594-64fa-43d8-b9a2-b96dcb542bfa",
   "metadata": {},
   "outputs": [],
   "source": [
    "ed.tail()"
   ]
  },
  {
   "cell_type": "code",
   "execution_count": null,
   "id": "4b4afa14-b96d-4f66-9451-76632201e568",
   "metadata": {},
   "outputs": [],
   "source": [
    "ed.info()"
   ]
  },
  {
   "cell_type": "code",
   "execution_count": null,
   "id": "ae0ede9b-4141-4a18-9f3e-5077a51d2840",
   "metadata": {},
   "outputs": [],
   "source": [
    "ed.describe()"
   ]
  },
  {
   "cell_type": "code",
   "execution_count": null,
   "id": "b9f5f6e3-a896-4dc7-9509-4cf5cfd123ca",
   "metadata": {},
   "outputs": [],
   "source": [
    "unified_data = pd.concat([csv, ed], ignore_index=True)"
   ]
  },
  {
   "cell_type": "code",
   "execution_count": null,
   "id": "ca2d9b83-8f9d-4281-a657-8c52fdcb16d8",
   "metadata": {},
   "outputs": [],
   "source": [
    "total_sales = unified_data['SALES'].sum()\n",
    "print(\"Total Sales:\", total_sales)"
   ]
  },
  {
   "cell_type": "code",
   "execution_count": null,
   "id": "40c06380-f030-4edc-8fd6-5714d3b040dc",
   "metadata": {},
   "outputs": [],
   "source": [
    "category_sales = unified_data.groupby('ORDERNUMBER')['SALES'].mean()\n",
    "category_sales"
   ]
  },
  {
   "cell_type": "code",
   "execution_count": null,
   "id": "c34057ca-8db5-4585-b4e3-ac6bd390e459",
   "metadata": {},
   "outputs": [],
   "source": [
    "category_counts = unified_data['SALES'].value_counts()\n",
    "category_counts.plot(kind='bar')\n",
    "plt.title('Product Category Distribution')\n",
    "plt.xlabel('Category')\n",
    "plt.ylabel('Count')\n",
    "plt.show()"
   ]
  },
  {
   "cell_type": "code",
   "execution_count": null,
   "id": "f86a715a-75a1-4a1d-b5b5-845b759ea6c3",
   "metadata": {},
   "outputs": [],
   "source": []
  },
  {
   "cell_type": "code",
   "execution_count": null,
   "id": "212a822e-9bc8-4c41-9dbc-bae9550c86de",
   "metadata": {},
   "outputs": [],
   "source": [
    "total_sales_value = unified_data['Value'].sum()\n",
    "print(\"Total Sales:\", total_sales_value)\n",
    "\n",
    "category_sales = unified_data.groupby('Sales_Rep_Name')['Value'].mean()\n",
    "\n",
    "category_counts = unified_data['Value'].value_counts()\n",
    "\n",
    "category_counts.plot(kind='bar')\n",
    "plt.title('Sales Value Distribution')\n",
    "plt.xlabel('Sales Value')\n",
    "plt.ylabel('Count')\n",
    "plt.show()"
   ]
  },
  {
   "cell_type": "code",
   "execution_count": null,
   "id": "7a9ca4a4-0e49-4f91-a46e-3ecf4d7c7f15",
   "metadata": {},
   "outputs": [],
   "source": []
  },
  {
   "cell_type": "code",
   "execution_count": null,
   "id": "856d2717-bd2e-498c-9ec0-0b223f3a21c7",
   "metadata": {},
   "outputs": [],
   "source": [
    "csv.groupby('MONTH_ID')['SALES'].sum().plot(kind='bar')\n",
    "plt.show()\n"
   ]
  },
  {
   "cell_type": "code",
   "execution_count": null,
   "id": "cd625330-058d-427c-aeed-257011a55773",
   "metadata": {},
   "outputs": [],
   "source": []
  },
  {
   "cell_type": "code",
   "execution_count": null,
   "id": "a6df7bdb-a227-4845-a413-57e887b349d7",
   "metadata": {},
   "outputs": [],
   "source": []
  },
  {
   "cell_type": "code",
   "execution_count": null,
   "id": "6bf8e646-ec1d-4713-bbdf-d3a653ffbc8d",
   "metadata": {},
   "outputs": [],
   "source": [
    "import matplotlib.pyplot as plt\n",
    "import seaborn as sns\n",
    "\n",
    "# Group sales by product line\n",
    "sales_by_product_line = csv.groupby('PRODUCTLINE')['SALES'].sum().reset_index()\n",
    "\n",
    "# Create the plot\n",
    "plt.figure(figsize=(10, 6))\n",
    "sns.barplot(data=sales_by_product_line, x='PRODUCTLINE', y='SALES', palette='viridis', hue='PRODUCTLINE')\n",
    "\n",
    "# Add title and labels\n",
    "plt.title('Total Sales by Product Line')\n",
    "plt.xlabel('Product Line')\n",
    "plt.ylabel('Total Sales')\n",
    "\n",
    "# Rotate x-axis labels for better readability\n",
    "plt.xticks(rotation=45)\n",
    "\n",
    "# Adjust layout for tight fit\n",
    "plt.tight_layout()\n",
    "\n",
    "# Display the plot\n",
    "plt.show()\n"
   ]
  },
  {
   "cell_type": "code",
   "execution_count": null,
   "id": "92f5684c-0c42-4333-b7da-f4ce6937de3f",
   "metadata": {},
   "outputs": [],
   "source": [
    "sales_by_product_line = csv.groupby('PRODUCTLINE')['SALES'].sum().reset_index()\n",
    "\n",
    "# Create the barplot for total sales by product line\n",
    "plt.figure(figsize=(10, 6))\n",
    "sns.barplot(data=sales_by_product_line, x='PRODUCTLINE', y='SALES', hue='PRODUCTLINE', palette='viridis', legend=False)\n",
    "\n",
    "plt.title('Total Sales by Product Line')\n",
    "plt.xlabel('Product Line')\n",
    "plt.ylabel('Total Sales')\n",
    "plt.xticks(rotation=45)\n",
    "plt.tight_layout()\n",
    "plt.show()\n",
    "\n",
    "# Create the boxplot for sales distribution by year\n",
    "plt.figure(figsize=(12, 6))\n",
    "sns.barplot(data=sales_by_product_line, x='PRODUCTLINE', y='SALES')\n",
    "\n",
    "plt.title('Sales Distribution by Year')\n",
    "plt.xlabel('Year')\n",
    "plt.ylabel('Sales')\n",
    "plt.xticks(rotation=45)\n",
    "plt.tight_layout()\n",
    "plt.show()"
   ]
  },
  {
   "cell_type": "code",
   "execution_count": null,
   "id": "63639035-d37e-44b7-865b-e5c255565f77",
   "metadata": {},
   "outputs": [],
   "source": [
    "\n",
    "sales_distribution = unified_data.groupby('PRODUCTLINE')['SALES'].sum()\n",
    "\n",
    "\n",
    "plt.figure(figsize=(8, 8))\n",
    "plt.pie(sales_distribution, labels=sales_distribution.index, autopct='%1.1f%%', startangle=140)\n",
    "plt.title('Sales Distribution by Product Line')\n",
    "plt.axis('equal')  \n",
    "plt.show()\n"
   ]
  },
  {
   "cell_type": "code",
   "execution_count": null,
   "id": "0c1696e2-7adb-4bfc-bc02-8e7ae9485ac3",
   "metadata": {},
   "outputs": [],
   "source": [
    "print(unified_data.columns)\n"
   ]
  },
  {
   "cell_type": "code",
   "execution_count": null,
   "id": "99549420-aef7-455d-8008-ef6245b3fd9e",
   "metadata": {},
   "outputs": [],
   "source": [
    "print(sales_distribution)"
   ]
  },
  {
   "cell_type": "code",
   "execution_count": null,
   "id": "948246db-74fe-41a9-b1ba-cd2869055722",
   "metadata": {},
   "outputs": [],
   "source": [
    "# Here's a line-by-line explanation of the code provided:\n",
    "\n",
    "# 1. **`csv.describe()`**  \n",
    "#    - This outputs descriptive statistics of the `csv` DataFrame, showing summary metrics like mean, median, standard deviation, min, max, and quartile values for each numeric column.\n",
    "\n",
    "# 2. **`csv.dropna()`**  \n",
    "#    - Drops any rows with missing values (NaNs) in the `csv` DataFrame.\n",
    "\n",
    "# 3. **`ed.head()` and `ed.tail()`**  \n",
    "#    - `ed.head()` displays the first five rows of the `ed` DataFrame, while `ed.tail()` displays the last five rows.\n",
    "\n",
    "# 4. **`ed.info()`**  \n",
    "#    - Shows information about the `ed` DataFrame, including the number of entries, column names, data types, and memory usage.\n",
    "\n",
    "# 5. **`ed.describe()`**  \n",
    "#    - Similar to `csv.describe()`, this outputs summary statistics for each numeric column in `ed`.\n",
    "\n",
    "# 6. **`unified_data = pd.concat([csv, ed], ignore_index=True)`**  \n",
    "#    - Concatenates (joins) the `csv` and `ed` DataFrames into a single DataFrame `unified_data`, resetting the index to ensure unique indexing across the combined data.\n",
    "\n",
    "# 7. **`total_sales = unified_data['SALES'].sum()`**  \n",
    "#    - Calculates the total sum of the 'SALES' column in `unified_data`.\n",
    "\n",
    "# 8. **`print(\"Total Sales:\", total_sales)`**  \n",
    "#    - Prints the total sales amount.\n",
    "\n",
    "# 9. **`category_sales = unified_data.groupby('ORDERNUMBER')['SALES'].mean()`**  \n",
    "#    - Groups `unified_data` by `ORDERNUMBER`, calculates the mean of `SALES` for each order, and stores it in `category_sales`.\n",
    "\n",
    "# 10. **`category_counts = unified_data['SALES'].value_counts()`**  \n",
    "#     - Counts occurrences of each unique sales value in the 'SALES' column and stores it in `category_counts`.\n",
    "\n",
    "# 11. **`category_counts.plot(kind='bar')`**  \n",
    "#     - Plots `category_counts` as a bar chart.\n",
    "\n",
    "# 12. **`plt.title('Product Category Distribution')`**  \n",
    "#     - Sets the title of the bar chart to \"Product Category Distribution\".\n",
    "\n",
    "# 13. **`plt.xlabel('Category')` and `plt.ylabel('Count')`**  \n",
    "#     - Labels the x-axis as \"Category\" and the y-axis as \"Count\".\n",
    "\n",
    "# 14. **`plt.show()`**  \n",
    "#     - Displays the bar chart.\n",
    "\n",
    "# 15. **`total_sales_value = unified_data['Value'].sum()`**  \n",
    "#     - Calculates the total sum of the 'Value' column in `unified_data`.\n",
    "\n",
    "# 16. **`print(\"Total Sales:\", total_sales_value)`**  \n",
    "#     - Prints the total value sales amount.\n",
    "\n",
    "# 17. **`category_sales = unified_data.groupby('Sales_Rep_Name')['Value'].mean()`**  \n",
    "#     - Groups `unified_data` by `Sales_Rep_Name` and calculates the mean of 'Value' for each sales representative.\n",
    "\n",
    "# 18. **`category_counts = unified_data['Value'].value_counts()`**  \n",
    "#     - Counts occurrences of each unique value in the 'Value' column.\n",
    "\n",
    "# 19. **`category_counts.plot(kind='bar')`**  \n",
    "#     - Plots `category_counts` as a bar chart.\n",
    "\n",
    "# 20. **`plt.title('Sales Value Distribution')`**  \n",
    "#     - Sets the title to \"Sales Value Distribution\".\n",
    "\n",
    "# 21. **`plt.xlabel('Sales Value')` and `plt.ylabel('Count')`**  \n",
    "#     - Labels the x-axis as \"Sales Value\" and the y-axis as \"Count\".\n",
    "\n",
    "# 22. **`plt.show()`**  \n",
    "#     - Displays the bar chart.\n",
    "\n",
    "# 23. **`csv.groupby('MONTH_ID')['SALES'].sum().plot(kind='bar')`**  \n",
    "#     - Groups `csv` by 'MONTH_ID' and calculates the sum of 'SALES' for each month, then plots the result as a bar chart.\n",
    "\n",
    "# 24. **`plt.show()`**  \n",
    "#     - Displays the monthly sales bar chart.\n",
    "\n",
    "# 25. **`import matplotlib.pyplot as plt` and `import seaborn as sns`**  \n",
    "#     - Imports the matplotlib and seaborn libraries for plotting.\n",
    "\n",
    "# 26. **`sales_by_product_line = csv.groupby('PRODUCTLINE')['SALES'].sum().reset_index()`**  \n",
    "#     - Groups `csv` by 'PRODUCTLINE' and calculates the total sales for each product line, then resets the index for easier plotting.\n",
    "\n",
    "# 27. **`plt.figure(figsize=(10, 6))`**  \n",
    "#     - Creates a figure with dimensions 10x6 inches.\n",
    "\n",
    "# 28. **`sns.barplot(data=sales_by_product_line, x='PRODUCTLINE', y='SALES', palette='viridis', hue='PRODUCTLINE')`**  \n",
    "#     - Creates a bar plot of total sales by product line with the 'viridis' color palette, using product line names as hues for color distinction.\n",
    "\n",
    "# 29. **`plt.title('Total Sales by Product Line')`**  \n",
    "#     - Sets the title to \"Total Sales by Product Line\".\n",
    "\n",
    "# 30. **`plt.xlabel('Product Line')` and `plt.ylabel('Total Sales')`**  \n",
    "#     - Labels the x-axis as \"Product Line\" and the y-axis as \"Total Sales\".\n",
    "\n",
    "# 31. **`plt.xticks(rotation=45)`**  \n",
    "#     - Rotates the x-axis labels by 45 degrees for readability.\n",
    "\n",
    "# 32. **`plt.tight_layout()`**  \n",
    "#     - Adjusts layout to prevent label overlap.\n",
    "\n",
    "# 33. **`plt.show()`**  \n",
    "#     - Displays the bar plot.\n",
    "\n",
    "# 34. **`sales_distribution = unified_data.groupby('PRODUCTLINE')['SALES'].sum()`**  \n",
    "#     - Groups `unified_data` by 'PRODUCTLINE' and calculates the sum of 'SALES' for each product line.\n",
    "\n",
    "# 35. **`plt.figure(figsize=(8, 8))`**  \n",
    "#     - Creates a square figure for the pie chart.\n",
    "\n",
    "# 36. **`plt.pie(sales_distribution, labels=sales_distribution.index, autopct='%1.1f%%', startangle=140)`**  \n",
    "#     - Plots `sales_distribution` as a pie chart, showing percentages with one decimal place, starting the first wedge at 140 degrees.\n",
    "\n",
    "# 37. **`plt.title('Sales Distribution by Product Line')`**  \n",
    "#     - Sets the title to \"Sales Distribution by Product Line\".\n",
    "\n",
    "# 38. **`plt.axis('equal')`**  \n",
    "#     - Ensures the pie chart is a circle.\n",
    "\n",
    "# 39. **`plt.show()`**  \n",
    "#     - Displays the pie chart.\n",
    "\n",
    "# 40. **`print(unified_data.columns)`**  \n",
    "#     - Prints the column names of `unified_data`.\n",
    "\n",
    "# 41. **`print(sales_distribution)`**  \n",
    "#     - Prints the `sales_distribution` values for each product line."
   ]
  },
  {
   "cell_type": "code",
   "execution_count": null,
   "id": "7d01200d-a83d-4aff-b3bb-a96b2bb3bff4",
   "metadata": {},
   "outputs": [],
   "source": []
  },
  {
   "cell_type": "code",
   "execution_count": null,
   "id": "da4bf548-f7c8-4a14-87c2-e05b28d7d12b",
   "metadata": {},
   "outputs": [],
   "source": []
  }
 ],
 "metadata": {
  "kernelspec": {
   "display_name": "Python 3 (ipykernel)",
   "language": "python",
   "name": "python3"
  },
  "language_info": {
   "codemirror_mode": {
    "name": "ipython",
    "version": 3
   },
   "file_extension": ".py",
   "mimetype": "text/x-python",
   "name": "python",
   "nbconvert_exporter": "python",
   "pygments_lexer": "ipython3",
   "version": "3.12.2"
  }
 },
 "nbformat": 4,
 "nbformat_minor": 5
}
